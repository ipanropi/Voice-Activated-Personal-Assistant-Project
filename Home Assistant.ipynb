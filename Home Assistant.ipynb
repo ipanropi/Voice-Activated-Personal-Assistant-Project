{
 "cells": [
  {
   "cell_type": "markdown",
   "id": "8b8ee810",
   "metadata": {},
   "source": [
    "Voice-Activated Personal Assistant Project\n",
    "------------------------------------------\n",
    "This project develops a voice-activated personal assistant using Python. It combines speech recognition and text-to-speech for interactive communication. Key features include:\n",
    "\n",
    "- Voice command recognition for initiating various tasks.\n",
    "- Integration with OpenAI's GPT for a responsive chat mode.\n",
    "- Ability to play music from YouTube based on voice requests.\n",
    "- Real-time weather updates using WeatherAPI.\n",
    "- Customizable settings for voice adjustments.\n",
    "\n",
    "This assistant is designed to assist users in daily tasks through voice commands, enhancing user experience with AI-powered conversational capabilities."
   ]
  },
  {
   "cell_type": "markdown",
   "id": "7e601e07",
   "metadata": {},
   "source": [
    "# Import the dependencies"
   ]
  },
  {
   "cell_type": "code",
   "execution_count": null,
   "id": "631ae24b",
   "metadata": {},
   "outputs": [],
   "source": [
    "import speech_recognition as sr\n",
    "import pyttsx3\n",
    "import time\n",
    "import requests\n",
    "import json\n",
    "import vlc\n",
    "from pytube import YouTube  \n",
    "import os\n",
    "from openai import OpenAI"
   ]
  },
  {
   "cell_type": "markdown",
   "id": "8e9cef41",
   "metadata": {},
   "source": [
    "# Initialize the variable"
   ]
  },
  {
   "cell_type": "code",
   "execution_count": null,
   "id": "9883a09e",
   "metadata": {},
   "outputs": [],
   "source": [
    "client = OpenAI()\n",
    "listeningToCommand = True;\n",
    "engine = pyttsx3.init('sapi5')\n",
    "\n",
    "volume = engine.getProperty('volume')\n",
    "engine.setProperty('volume', volume+0.25)\n",
    "\n",
    "rate = engine.getProperty('rate')\n",
    "engine.setProperty('rate', rate-10)"
   ]
  },
  {
   "cell_type": "markdown",
   "id": "025b94da",
   "metadata": {},
   "source": [
    "# Declaring the function"
   ]
  },
  {
   "cell_type": "markdown",
   "id": "36943b4a",
   "metadata": {},
   "source": [
    "The function to output the audio to user"
   ]
  },
  {
   "cell_type": "code",
   "execution_count": null,
   "id": "c4c571f8",
   "metadata": {},
   "outputs": [],
   "source": [
    "def speak(scripts):\n",
    "    engine.say(scripts)\n",
    "    engine.runAndWait()\n"
   ]
  },
  {
   "cell_type": "markdown",
   "id": "c871d02f",
   "metadata": {},
   "source": [
    "The function to get audio input from user"
   ]
  },
  {
   "cell_type": "code",
   "execution_count": null,
   "id": "84dd40ac",
   "metadata": {},
   "outputs": [],
   "source": [
    "def audioInput(pauseThreshold=0.8, energyThreshold=4000, mode='normal'):\n",
    "    # obtain audio from the microphone\n",
    "    r = sr.Recognizer()\n",
    "    r.energy_threshold = energyThreshold\n",
    "    r.pause_threshold = pauseThreshold\n",
    "    with sr.Microphone() as source:\n",
    "        r.adjust_for_ambient_noise(source)\n",
    "        print(\"Listening...\")\n",
    "        audio = r.listen(source)\n",
    "    \n",
    "    # recognize speech using Google Speech Recognition\n",
    "    try:\n",
    "    # for testing purposes, we're just using the default API key\n",
    "    # to use another API key, use `r.recognize_google(audio, key=\"GOOGLE_SPEECH_RECOGNITION_API_KEY\")`\n",
    "    # instead of `r.recognize_google(audio)`\n",
    "        print(\"Google Speech Recognition thinks you said \" + r.recognize_google(audio))\n",
    "        return r.recognize_google(audio)\n",
    "    except sr.UnknownValueError:\n",
    "        print(\"Google Speech Recognition could not understand audio\")\n",
    "        if mode == 'normal':\n",
    "            speak(\"Please try again, I can't understand you\")\n",
    "        return \"try again\"\n",
    "    except sr.RequestError as e:\n",
    "        print(\"Could not request results from Google Speech Recognition service; {0}\".format(e))\n",
    "        if mode == 'normal':\n",
    "            speak(\"Please try again, I can't understand you\")\n",
    "        return \"try again\"\n",
    "    \n",
    "    "
   ]
  },
  {
   "cell_type": "markdown",
   "id": "f0c3828c",
   "metadata": {},
   "source": [
    "The function to determine to stop or continue the personal assistant"
   ]
  },
  {
   "cell_type": "code",
   "execution_count": null,
   "id": "c4912f10",
   "metadata": {},
   "outputs": [],
   "source": [
    "def action(audioInput):\n",
    "    assistant = audioInput()\n",
    "    \n",
    "    if 'billy' in assistant.lower():\n",
    "        return 'billy'\n",
    "    if 'stop' in assistant.lower():\n",
    "        return 'stop'"
   ]
  },
  {
   "cell_type": "markdown",
   "id": "e0b55691",
   "metadata": {},
   "source": [
    "The function to call the helper or stop the program"
   ]
  },
  {
   "cell_type": "code",
   "execution_count": null,
   "id": "f109c43b",
   "metadata": {},
   "outputs": [],
   "source": [
    "def personalAssistant(choice):\n",
    "    if choice == 'billy':\n",
    "        speak('Hi! Im billy, your personal assistant. How can I help you?')\n",
    "        helper()\n",
    "    if choice == 'stop':\n",
    "        global listeningToCommand\n",
    "        listeningToCommand = False"
   ]
  },
  {
   "cell_type": "markdown",
   "id": "52c5fa3d",
   "metadata": {},
   "source": [
    "The function that call determine the request of the user"
   ]
  },
  {
   "cell_type": "code",
   "execution_count": null,
   "id": "b9a865a0",
   "metadata": {},
   "outputs": [],
   "source": [
    "def helper():\n",
    "    request = audioInput()\n",
    "    \n",
    "    if 'chat' in request.lower():\n",
    "        speak(\"Entering Chat Mode\")\n",
    "        chatMode()\n",
    "    \n",
    "    if 'play' in request.lower():\n",
    "        url = \"https://youtube-search-and-download.p.rapidapi.com/search\"\n",
    "        headers = {\n",
    "            \"X-RapidAPI-Key\": \"62ab3cbf75msh1c39d509569cbbcp1f014bjsnc70a6e8a4a57\",\n",
    "            \"X-RapidAPI-Host\": \"youtube-search-and-download.p.rapidapi.com\"\n",
    "        }\n",
    "        \n",
    "        links = 'https://www.youtube.com/watch?v='\n",
    "        songsName = request.partition(\"play\")[2]\n",
    "        response = requests.get(url, headers=headers, params={\"query\":songsName, \"type\":\"v\"})\n",
    "        videoId = response.json()['contents'][0]['video']['videoId']\n",
    "        videoUrl = links + videoId\n",
    "        print(videoUrl)\n",
    "        speak(\"Please wait as I'm searching for the song\")\n",
    "        playSong(videoUrl)\n",
    "    \n",
    "    if 'weather' in request.lower():\n",
    "        speak(\"Please wait while I'm look up the weather\")\n",
    "        weather = getWeather()\n",
    "        scripts = \"The weather in Madison right now is \", weather, \" degree Celcius!\"\n",
    "        speak(scripts)\n",
    "        \n",
    "    \n",
    "    if 'stop' in request.lower():\n",
    "        global listeningToCommand\n",
    "        listeningToCommand = False"
   ]
  },
  {
   "cell_type": "markdown",
   "id": "481db392",
   "metadata": {},
   "source": [
    "The function that handle chatMode request."
   ]
  },
  {
   "cell_type": "code",
   "execution_count": null,
   "id": "7caadaf5",
   "metadata": {},
   "outputs": [],
   "source": [
    "def chatMode():\n",
    "    keep_running= True\n",
    "    \n",
    "    messagesList=[\n",
    "                {\"role\": \"system\", \"content\": \"You are a helpful assistant for a student named Muhammad Irfan that lived in madison wisconsin united states and studying computer science and data science in University of Wisconsin Madison. You will always response in 50 words or less only\"},\n",
    "            ]\n",
    "    \n",
    "    \n",
    "    while keep_running:\n",
    "        request = audioInput()\n",
    "        \n",
    "        messagesList.append({\"role\": \"user\", \"content\": request})\n",
    "    \n",
    "        if 'stop' in request:\n",
    "            keep_running = False\n",
    "            break\n",
    "    \n",
    "        speak(\"Please wait while I'm thinking...\")\n",
    "    \n",
    "        textResponse = client.chat.completions.create(\n",
    "            model=\"gpt-3.5-turbo\",\n",
    "            messages=messagesList\n",
    "        )\n",
    "    \n",
    "        text = textResponse.choices[0].message.content\n",
    "        messagesList.append({\"role\": \"assistant\", \"content\": text})\n",
    "        speak(text)\n",
    "        \n",
    "        speak(\"Do you need anything else? if not say stop to exit chat mode\")\n",
    "        \n",
    "    \n",
    "    \n",
    "    return\n",
    "    \n",
    "    \n",
    "    \n",
    "    "
   ]
  },
  {
   "cell_type": "markdown",
   "id": "fd026485",
   "metadata": {},
   "source": [
    "The function that handle play songs request"
   ]
  },
  {
   "cell_type": "code",
   "execution_count": null,
   "id": "190fc632",
   "metadata": {},
   "outputs": [],
   "source": [
    "def playSong(playurl):\n",
    "    currPath = r\"C:\\Users\\16089\\Documents\\Home Assistant\"\n",
    "    \n",
    "    yt = YouTube(playurl)\n",
    "    length = yt.length\n",
    "    name = yt.title\n",
    "    yt = yt.streams.get_audio_only()\n",
    "    yt.download(filename=\"song.mp4\")\n",
    "    \n",
    "    \n",
    "    timeout = time.time() + length + 3\n",
    "    \n",
    "    speak('Playing ' + name)\n",
    "    media = vlc.MediaPlayer(\"song.mp4\")\n",
    "    media.play()\n",
    "    \n",
    "    \n",
    "    \n",
    "    while True:\n",
    "        stopCommand = audioInput(mode='playingSong')\n",
    "        if time.time() > timeout:\n",
    "            media.stop()\n",
    "            break\n",
    "        if 'stop' in stopCommand:\n",
    "            speak(\"Stopping the song\")\n",
    "            media.stop()\n",
    "            break\n"
   ]
  },
  {
   "cell_type": "markdown",
   "id": "be537820",
   "metadata": {},
   "source": [
    "The function that handle get weather request from user"
   ]
  },
  {
   "cell_type": "code",
   "execution_count": null,
   "id": "7ba73176",
   "metadata": {},
   "outputs": [],
   "source": [
    "def getWeather():\n",
    "    url = \"https://weatherapi-com.p.rapidapi.com/current.json\"\n",
    "\n",
    "    headers = {\n",
    "        \"X-RapidAPI-Key\": \"62ab3cbf75msh1c39d509569cbbcp1f014bjsnc70a6e8a4a57\",\n",
    "        \"X-RapidAPI-Host\": \"weatherapi-com.p.rapidapi.com\"\n",
    "    }\n",
    "\n",
    "    response = requests.get(url, headers=headers, params={\"q\":\"43.073051,-89.401230\"})\n",
    "\n",
    "    weather = str(response.json()['current']['feelslike_c'])\n",
    "    \n",
    "    if '-' in weather:\n",
    "        weather = weather.replace('-', 'negative ')\n",
    "        \n",
    "    return weather"
   ]
  },
  {
   "cell_type": "markdown",
   "id": "88fb234a",
   "metadata": {},
   "source": [
    "Main function that run until user stops the program"
   ]
  },
  {
   "cell_type": "code",
   "execution_count": null,
   "id": "2072a389",
   "metadata": {},
   "outputs": [],
   "source": [
    "def run():\n",
    "    while True:\n",
    "        speak(\"Say billy to start\")\n",
    "        choice = action(audioInput)\n",
    "        personalAssistant(choice)\n",
    "    \n",
    "        if not listeningToCommand:\n",
    "            break\n",
    "    \n",
    "    return"
   ]
  },
  {
   "cell_type": "markdown",
   "id": "1e7ac17c",
   "metadata": {},
   "source": [
    "# Running the program"
   ]
  },
  {
   "cell_type": "code",
   "execution_count": null,
   "id": "09e4ce1c",
   "metadata": {},
   "outputs": [],
   "source": [
    "run()"
   ]
  }
 ],
 "metadata": {
  "kernelspec": {
   "display_name": "Python 3 (ipykernel)",
   "language": "python",
   "name": "python3"
  },
  "language_info": {
   "codemirror_mode": {
    "name": "ipython",
    "version": 3
   },
   "file_extension": ".py",
   "mimetype": "text/x-python",
   "name": "python",
   "nbconvert_exporter": "python",
   "pygments_lexer": "ipython3",
   "version": "3.11.5"
  }
 },
 "nbformat": 4,
 "nbformat_minor": 5
}
